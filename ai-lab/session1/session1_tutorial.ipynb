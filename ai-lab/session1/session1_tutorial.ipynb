{
 "cells": [
  {
   "cell_type": "markdown",
   "metadata": {},
   "source": [
    "# AI-LAB SESSION 1: Tutorial"
   ]
  },
  {
   "cell_type": "markdown",
   "metadata": {},
   "source": [
    "Welcome to the AI-LAB! This is an introductory tutorial for you to familiarize with Jupyter Notebook and OpenAI Gym\n",
    "\n",
    "## OpenAI Gym environments\n",
    "\n",
    "The environment **SmallMaze** is visible in the following figure\n",
    "![SmallMaze](images/maze.png)\n",
    "The agent starts in cell $(0, 2)$ and has to reach the treasure in $(4, 3)$\n",
    "\n",
    "In order to use the environment we need first to import the packages of OpenAI Gym. Notice that due to the structure of this repository, we need to add the parent directory to the path"
   ]
  },
  {
   "cell_type": "code",
   "execution_count": 3,
   "metadata": {},
   "outputs": [],
   "source": [
    "import os\n",
    "import sys\n",
    "module_path = os.path.abspath(os.path.join('..'))\n",
    "if module_path not in sys.path:\n",
    "    sys.path.append(module_path)\n",
    "\n",
    "import gym\n",
    "import envs"
   ]
  },
  {
   "cell_type": "markdown",
   "metadata": {},
   "source": [
    "### Free hints:\n",
    "- You can press TAB while writing code in Jupyter Notebook to open the intellisense with suggestions on how to complete your statement\n",
    "- CTRL + ENTER executes a cell\n",
    "- SHITF + ENTER executes a cell and goes to the next one\n",
    "- CTRL + S saves the work. **Remember to do this from time to time!!!**\n",
    "- SHIFT + TAB shows a function signature and docs\n",
    "\n",
    "For other useful shorcuts check the Help menu on top\n",
    "\n",
    "Than we create a new enviromnent **SmallMaze** and render it"
   ]
  },
  {
   "cell_type": "code",
   "execution_count": 4,
   "metadata": {},
   "outputs": [
    {
     "name": "stdout",
     "output_type": "stream",
     "text": [
      "[['C' 'C' 'S' 'C']\n",
      " ['C' 'C' 'W' 'C']\n",
      " ['C' 'C' 'C' 'C']\n",
      " ['C' 'W' 'W' 'W']\n",
      " ['C' 'C' 'C' 'G']]\n"
     ]
    }
   ],
   "source": [
    "env = gym.make(\"SmallMaze-v0\") #crea le immagini di wall\n",
    "env.render()"
   ]
  },
  {
   "cell_type": "markdown",
   "metadata": {},
   "source": [
    "The render is a matrix with cells of different type:\n",
    "* *S* - Start position\n",
    "* *C* - Clear\n",
    "* *W* - Wall\n",
    "* *G* - Goal\n",
    "\n",
    "An environment has some useful variables:\n",
    "* *action_space* - space of possible actions: usually a range of integers $[0, ..., n]$\n",
    "* *observation_space* - space of possible observations (states): usually a range of integers $[0, ..., n]$\n",
    "* *actions* - mapping between action ids and their descriptions\n",
    "* *startstate* - start state (unique)\n",
    "* *goalstate* - goal state (unique)\n",
    "* *grid* - flattened grid (1-dimensional array)\n",
    "\n",
    "In **SmallMaze** we have 4 different possible actions numbered from 0 to 4"
   ]
  },
  {
   "cell_type": "code",
   "execution_count": 5,
   "metadata": {},
   "outputs": [
    {
     "data": {
      "text/plain": [
       "4"
      ]
     },
     "execution_count": 5,
     "metadata": {},
     "output_type": "execute_result"
    }
   ],
   "source": [
    "env.action_space.n"
   ]
  },
  {
   "cell_type": "markdown",
   "metadata": {},
   "source": [
    "And they are *Left, Right, Up, Down*"
   ]
  },
  {
   "cell_type": "code",
   "execution_count": 6,
   "metadata": {},
   "outputs": [
    {
     "data": {
      "text/plain": [
       "{0: 'L', 1: 'R', 2: 'U', 3: 'D'}"
      ]
     },
     "execution_count": 6,
     "metadata": {},
     "output_type": "execute_result"
    }
   ],
   "source": [
    "env.actions"
   ]
  },
  {
   "cell_type": "markdown",
   "metadata": {},
   "source": [
    "States are numbered from 0 to 20"
   ]
  },
  {
   "cell_type": "code",
   "execution_count": 7,
   "metadata": {},
   "outputs": [
    {
     "data": {
      "text/plain": [
       "20"
      ]
     },
     "execution_count": 7,
     "metadata": {},
     "output_type": "execute_result"
    }
   ],
   "source": [
    "env.observation_space.n"
   ]
  },
  {
   "cell_type": "markdown",
   "metadata": {},
   "source": [
    "There are also some mehtods:\n",
    "* *reneder()* - renders the environment\n",
    "* *sample(state, action)* - returns a new state sampled from the ones that can be reached from *state* by performing *action* both given as ids\n",
    "* *pos_to_state(x, y)* - returns the state id given its position in $x$ and $y$ coordinates\n",
    "* *state_to_pos(state)* - returns the coordinates $(x, y)$ given a state id\n",
    "\n",
    "For example, if we want to know the ids and positions for both the start and goal state"
   ]
  },
  {
   "cell_type": "code",
   "execution_count": 8,
   "metadata": {},
   "outputs": [
    {
     "name": "stdout",
     "output_type": "stream",
     "text": [
      "Start id: 2\tGoal id: 19\n",
      "Start position: (0, 2)\tGoal position: (4, 3)\n",
      "Id of state (3, 0): 12\n"
     ]
    }
   ],
   "source": [
    "start = env.startstate\n",
    "goal = env.goalstate\n",
    "print(\"Start id: {}\\tGoal id: {}\".format(start, goal))\n",
    "print(\"Start position: {}\\tGoal position: {}\".format(env.state_to_pos(start), env.state_to_pos(goal)))\n",
    "print(\"Id of state (3, 0): {}\".format(env.pos_to_state(3, 0)))"
   ]
  },
  {
   "cell_type": "markdown",
   "metadata": {},
   "source": [
    "Now, what if we want to move the agent *R* from its start position? Well, he reaches state 3 $(0, 3)$ since the environment is deterministic"
   ]
  },
  {
   "cell_type": "code",
   "execution_count": 7,
   "metadata": {},
   "outputs": [
    {
     "data": {
      "text/plain": [
       "3"
      ]
     },
     "execution_count": 7,
     "metadata": {},
     "output_type": "execute_result"
    }
   ],
   "source": [
    "env.sample(start, 1)"
   ]
  },
  {
   "cell_type": "markdown",
   "metadata": {},
   "source": [
    "And if we want to make him move *Up* or *Down* instead? Since the agent can not move out of borders or pass through walls, he stays where he is"
   ]
  },
  {
   "cell_type": "code",
   "execution_count": 9,
   "metadata": {},
   "outputs": [
    {
     "name": "stdout",
     "output_type": "stream",
     "text": [
      "Current position: (0, 2)\tMoving UP: (0, 2)\tMoving DOWN: (0, 2)\n"
     ]
    }
   ],
   "source": [
    "print(\"Current position: {}\\tMoving UP: {}\\tMoving DOWN: {}\".format(env.state_to_pos(start),\n",
    "                                                                    env.state_to_pos(env.sample(start, 2)),\n",
    "                                                                    env.state_to_pos(env.sample(start, 3))))"
   ]
  },
  {
   "cell_type": "markdown",
   "metadata": {},
   "source": [
    "Let's do something more interesting: what are all the possible next states (I bet you'll need this later on)? We need to sample every action from the current one. Remember that actions lie in range $[0, env.action\\_space.n]$"
   ]
  },
  {
   "cell_type": "code",
   "execution_count": 10,
   "metadata": {},
   "outputs": [
    {
     "name": "stdout",
     "output_type": "stream",
     "text": [
      "From state (0, 2) with action L -> state (0, 1)\n",
      "From state (0, 2) with action R -> state (0, 3)\n",
      "From state (0, 2) with action U -> state (0, 2)\n",
      "From state (0, 2) with action D -> state (0, 2)\n"
     ]
    }
   ],
   "source": [
    "for action in range(env.action_space.n):\n",
    "    print(\"From state {} with action {} -> state {}\".format(env.state_to_pos(start), env.actions[action],\n",
    "                                                               env.state_to_pos(env.sample(start, action))))"
   ]
  },
  {
   "cell_type": "markdown",
   "metadata": {},
   "source": [
    "## The Fringe\n",
    "\n",
    "The search algorithms you will be asked to implement make use of a **Fringe**. You already have different types fringe available, each of them being a container for instances of **FringeNode**. Recall the important difference between a node of the fringe and a state of the environment: the former is a container of the latter, plus additional information.\n",
    "\n",
    "A **FringeNode** accepts the following arguments (that can also be accessed as variables after initialization):\n",
    "* *state* - state embedded in the node (its id)\n",
    "* *parent* - parent **FringeNode** of the current node being constructed (optional)\n",
    "\n",
    "If we want to create a root **FringeNode** for the start state we can do as follows (no parent is specified since it's the root). Also, notice the required import"
   ]
  },
  {
   "cell_type": "code",
   "execution_count": 10,
   "metadata": {},
   "outputs": [],
   "source": [
    "from utils.fringe import FringeNode, QueueFringe, StackFringe\n",
    "\n",
    "root = FringeNode(start)"
   ]
  },
  {
   "cell_type": "markdown",
   "metadata": {},
   "source": [
    "The next step is to create other two **FringeNode** forming a small path moving the agent *Left*"
   ]
  },
  {
   "cell_type": "code",
   "execution_count": 11,
   "metadata": {},
   "outputs": [
    {
     "name": "stdout",
     "output_type": "stream",
     "text": [
      "State id of 'third': 0\tParent id of 'third': 1\n"
     ]
    }
   ],
   "source": [
    "l_state = env.sample(start, 0)\n",
    "second = FringeNode(l_state, root)  # The parent is the root\n",
    "ll_state = env.sample(l_state, 0)\n",
    "third = FringeNode(ll_state, l_state)  # The parent is the previous state\n",
    "print(\"State id of 'third': {}\\tParent id of 'third': {}\".format(third.state, third.parent))"
   ]
  },
  {
   "cell_type": "markdown",
   "metadata": {},
   "source": [
    "Now we analyze the difference between two **Fringe** implementations, namely **QueueFringe** and **StackFringe**. The operations allowed include:\n",
    "* *add(node)* - adds a **FringeNode** to the fringe\n",
    "* *remove()* - removes a **FringeNode** from the fringe and returns it\n",
    "* *is_empty()* - True if the fringe is empty, False otherwise\n",
    "* *state **in** fringe* - True if a state id is contained in some node within the fringe, False otherwise\n",
    "* *len(fringe)* - returns the length of the fringe (the number of nodes contained therein)\n",
    "\n",
    "Let's see some examples with **QueueFringe**"
   ]
  },
  {
   "cell_type": "code",
   "execution_count": 12,
   "metadata": {},
   "outputs": [
    {
     "name": "stdout",
     "output_type": "stream",
     "text": [
      "Fringe length: 2\n"
     ]
    }
   ],
   "source": [
    "q_fringe = QueueFringe()\n",
    "q_fringe.add(root)\n",
    "q_fringe.add(second)\n",
    "print(\"Fringe length: {}\".format(len(q_fringe)))\n",
    "q_fringe.add(third)"
   ]
  },
  {
   "cell_type": "markdown",
   "metadata": {},
   "source": [
    "The fringe contains 3 nodes at the moment. Pay attention to the order they are removed: a **QueueFringe** is a FIFO"
   ]
  },
  {
   "cell_type": "code",
   "execution_count": 13,
   "metadata": {},
   "outputs": [
    {
     "name": "stdout",
     "output_type": "stream",
     "text": [
      "Removed: 2\n",
      "Removed: 1\n",
      "Removed: 0\n",
      "Fringe length: 0\n"
     ]
    }
   ],
   "source": [
    "while not q_fringe.is_empty():\n",
    "    print(\"Removed: {}\".format(q_fringe.remove().state))\n",
    "print(\"Fringe length: {}\".format(len(q_fringe)))"
   ]
  },
  {
   "cell_type": "markdown",
   "metadata": {},
   "source": [
    "**StackFringe** instad is a LIFO (a stack)"
   ]
  },
  {
   "cell_type": "code",
   "execution_count": 14,
   "metadata": {},
   "outputs": [
    {
     "name": "stdout",
     "output_type": "stream",
     "text": [
      "Fringe length: 3\n",
      "Removed: 0\n",
      "Removed: 1\n",
      "Removed: 2\n",
      "Fringe length: 0\n"
     ]
    }
   ],
   "source": [
    "s_fringe = StackFringe()\n",
    "s_fringe.add(root)\n",
    "s_fringe.add(second)\n",
    "s_fringe.add(third)\n",
    "print(\"Fringe length: {}\".format(len(s_fringe)))\n",
    "\n",
    "while not s_fringe.is_empty():\n",
    "    print(\"Removed: {}\".format(s_fringe.remove().state))\n",
    "print(\"Fringe length: {}\".format(len(s_fringe)))"
   ]
  },
  {
   "cell_type": "markdown",
   "metadata": {},
   "source": [
    "If you want to avoid inserting two **FringeNode** embedding the same state id you can perform a check to see if a specific state is already contained in the fringe"
   ]
  },
  {
   "cell_type": "code",
   "execution_count": 15,
   "metadata": {},
   "outputs": [
    {
     "data": {
      "text/plain": [
       "True"
      ]
     },
     "execution_count": 15,
     "metadata": {},
     "output_type": "execute_result"
    }
   ],
   "source": [
    "q_fringe = QueueFringe()\n",
    "if root.state not in q_fringe:\n",
    "    q_fringe.add(root)\n",
    "root.state in q_fringe"
   ]
  }
 ],
 "metadata": {
  "kernelspec": {
   "display_name": "Python 3",
   "language": "python",
   "name": "python3"
  },
  "language_info": {
   "codemirror_mode": {
    "name": "ipython",
    "version": 3
   },
   "file_extension": ".py",
   "mimetype": "text/x-python",
   "name": "python",
   "nbconvert_exporter": "python",
   "pygments_lexer": "ipython3",
   "version": "3.7.1"
  }
 },
 "nbformat": 4,
 "nbformat_minor": 2
}
