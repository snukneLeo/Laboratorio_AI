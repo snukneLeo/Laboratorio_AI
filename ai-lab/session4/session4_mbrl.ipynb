{
 "cells": [
  {
   "cell_type": "markdown",
   "metadata": {},
   "source": [
    "# AI-LAB SESSION 4: Model-Based Reinforcement Learning\n",
    "\n",
    "In this tutorial we will see some additional functionalities available to OpenAI Gym environments\n",
    "\n",
    "## Cliff environment\n",
    "\n",
    "The environment used is **Cliff** (taken from the book of Sutton and Barto as visible in the figure)\n",
    "![CliffWalking](images/cliff.png)\n",
    "\n",
    "The agent starts in cell $(3, 0)$ and has to reach the goal in $(3, 11)$. Falling from the cliff resets the position to the start state (the episode ends only when the goal state is reached). All other cells are safe. Action dinamycs is deterministic, meaning that the agent always reaches the desired next state.\n",
    "\n",
    "## Assignment 1\n",
    "\n",
    "Your first assignment is to implement the *Model-Based* algorithm on **Cliff**. In particular, you have first to learn the model by making the agent move in the environment and then solve it via *Value Iteration*. The solution returned must be a tuple *(policy, rewards, lengths)* where:\n",
    "* *policy*: array of action identifiers where the $i$-th action refers to the $i$-th state\n",
    "* *rewards*: array of rewards where the $i$-th reward refers to the $i$-th episode of the training performed\n",
    "* *lengths*: array of lengths where the $i$-th length refers to the $i$-th episode of the training performed (length in number of steps)\n",
    "\n",
    "Functions to implement:\n",
    "* *model_based(environment, episodes, ep_limit, vmaxiters, gamma, delta)*"
   ]
  },
  {
   "cell_type": "code",
   "execution_count": 1,
   "metadata": {},
   "outputs": [],
   "source": [
    "import os\n",
    "import sys\n",
    "module_path = os.path.abspath(os.path.join('..'))\n",
    "if module_path not in sys.path:\n",
    "    sys.path.append(module_path)\n",
    "\n",
    "import gym\n",
    "import envs\n",
    "import numpy as np\n",
    "from utils.funcs import run_episode, plot, rolling\n",
    "from timeit import default_timer as timer"
   ]
  },
  {
   "cell_type": "markdown",
   "metadata": {},
   "source": [
    "In the next cell you can copy the code for *Value Iteration* that you implemented in session 3"
   ]
  },
  {
   "cell_type": "code",
   "execution_count": 24,
   "metadata": {},
   "outputs": [],
   "source": [
    "def value_iteration(environment, maxiters, gamma, delta):\n",
    "    \"\"\"\n",
    "    Performs the value iteration algorithm for a specific environment\n",
    "    \n",
    "    Args:\n",
    "        environment: OpenAI Gym environment\n",
    "        maxiters: max iterations allowed\n",
    "        gamma: gamma value\n",
    "        delta: delta value\n",
    "        \n",
    "    Returns:\n",
    "        policy: 1-d dimensional array of action identifiers where index `i` corresponds to state id `i`\n",
    "    \"\"\"\n",
    "    V = np.zeros(environment.observation_space.n)\n",
    "    p = np.zeros(environment.observation_space.n, dtype=\"int8\")  # Initial policy\n",
    "    #p = np.zeros(environment.observation_space.n, dtype=\"int8\")  # Initial policy\n",
    "    viter = 0\n",
    "    tr = environment.T * environment.R\n",
    "    while True:     #DO-WHILE\n",
    "        #istruzioni\n",
    "        V1 = np.copy(V)\n",
    "        viter += 1\n",
    "        #for s in range(environment.observation_space.n):\n",
    "        V = np.max(np.sum(tr,axis=2) + np.sum(environment.T*gamma*V,axis=2),axis=1)\n",
    "        diff = np.abs(V - V1)\n",
    "        if np.max(diff) < delta or viter == maxiters:\n",
    "            break\n",
    "\n",
    "    p = np.argmax(np.sum(tr,axis=2) + np.sum(environment.T*gamma*V,axis=2),axis=1)   \n",
    "    return np.asarray(p)\n",
    "    \"\"\"\n",
    "    v = np.zeros(environment.observation_space.n)  # Value function init\n",
    "    iters = 0\n",
    "    while True:\n",
    "        iters += 1\n",
    "        pv = v.copy()  # Previous value function\n",
    "        v = (environment.T * (environment.R + gamma * v)).sum(axis=2).max(axis=1)  # New value function: max(a) of Q(s, a)\n",
    "        # Check for convergence\n",
    "        if iters == maxiters or np.max(np.abs(v - pv)) < delta:\n",
    "            break\n",
    "    # Extract policy by argmax(a) of Q(s, a): best action for each state\n",
    "    return (environment.T * (environment.R + gamma * v)).sum(axis=2).argmax(axis=1)\n",
    "\"\"\"\n"
   ]
  },
  {
   "cell_type": "markdown",
   "metadata": {},
   "source": [
    "The following function has to be implemented"
   ]
  },
  {
   "cell_type": "code",
   "execution_count": 25,
   "metadata": {},
   "outputs": [],
   "source": [
    "def model_based(environment, episodes, ep_limit, vmaxiters, gamma, delta):\n",
    "    \"\"\"\n",
    "    Performs the model-based algorithm for a specific environment\n",
    "    :param problem: problem\n",
    "    :param episodes: number of episodes for training\n",
    "    :param ep_limit: limit to episode length\n",
    "    :param vmaxiters: max iterations allowed for VI\n",
    "    :param gamma: gamma value\n",
    "    :param delta: delta value\n",
    "    :return: (policy, rews, ep_lengths): final policy, rewards for each episode [array], length of each episode [array]\n",
    "    \"\"\"\n",
    "    rews = np.zeros(episodes)\n",
    "    lengths = np.zeros(episodes)\n",
    "    policy = np.random.choice(environment.action_space.n, environment.observation_space.n)  # Random initial policy\n",
    "    #policy = np.zeros(environment.observation_space.n, dtype=\"int16\")\n",
    "    # Counters\n",
    "    ct = np.zeros((environment.observation_space.n, environment.action_space.n, environment.observation_space.n))\n",
    "    cr = np.zeros((environment.observation_space.n, environment.action_space.n, environment.observation_space.n))\n",
    "    for i in range(episodes):\n",
    "        s = environment.reset()\n",
    "        iters = 0\n",
    "        while True:\n",
    "            sp, r, d, _ = environment.step(policy[s])  # Execute a step\n",
    "            # Update counters\n",
    "            ct[s, policy[s], sp] += 1\n",
    "            cr[s, policy[s], sp] += r\n",
    "            iters += 1\n",
    "            rews[i] += r\n",
    "            if d or iters == ep_limit:\n",
    "                break\n",
    "            s = sp\n",
    "        lengths[i] = iters\n",
    "        # Update transition model and rewards\n",
    "        environment.R = cr.copy()\n",
    "        np.divide(cr, ct, out=environment.R, where=ct != 0)\n",
    "        ts = ct.sum(axis=2, keepdims=True)\n",
    "        environment.T = ct.copy()\n",
    "        np.divide(ct, ts, out=environment.T, where=ts != 0)\n",
    "        policy = value_iteration(environment, vmaxiters, gamma, delta)  # Compute policy with VI\n",
    "    return policy, rews, lengths"
   ]
  },
  {
   "cell_type": "markdown",
   "metadata": {},
   "source": [
    "The following code executes your implementation and prints the result"
   ]
  },
  {
   "cell_type": "code",
   "execution_count": 26,
   "metadata": {},
   "outputs": [
    {
     "name": "stdout",
     "output_type": "stream",
     "text": [
      "\n",
      "----------------------------------------------------------------\n",
      "\tEnvironment:  Cliff-v0\n",
      "----------------------------------------------------------------\n",
      "\n",
      "o  o  o  o  o  o  o  o  o  o  o  o\n",
      "o  o  o  o  o  o  o  o  o  o  o  o\n",
      "o  o  o  o  o  o  o  o  o  o  o  o\n",
      "x  C  C  C  C  C  C  C  C  C  C  T\n",
      "\n",
      "\n",
      "Execution time: 0.8907s\n",
      "Policy:\n",
      "[['R' 'R' 'R' 'R' 'R' 'R' 'R' 'R' 'R' 'R' 'R' 'D']\n",
      " ['U' 'U' 'U' 'U' 'U' 'U' 'U' 'U' 'U' 'U' 'U' 'U']\n",
      " ['R' 'R' 'R' 'R' 'R' 'R' 'R' 'R' 'R' 'R' 'R' 'D']\n",
      " ['U' 'U' 'U' 'U' 'U' 'U' 'U' 'U' 'U' 'U' 'U' 'U']]\n",
      "\n"
     ]
    }
   ],
   "source": [
    "envname = \"Cliff-v0\"\n",
    "\n",
    "print(\"\\n----------------------------------------------------------------\")\n",
    "print(\"\\tEnvironment: \", envname)\n",
    "print(\"----------------------------------------------------------------\\n\")\n",
    "\n",
    "##CORRETTO###\n",
    "\n",
    "env = gym.make(envname)\n",
    "env.render()\n",
    "print()\n",
    "\n",
    "# Learning parameters\n",
    "episodes = 500\n",
    "ep_limit = 50\n",
    "vmaxiters = 50\n",
    "gamma = .95\n",
    "delta = 1e-3\n",
    "\n",
    "t = timer()\n",
    "\n",
    "# Model-Based\n",
    "policy, rewards, lengths = model_based(env, episodes, ep_limit, vmaxiters, gamma, delta)\n",
    "print(\"Execution time: {0}s\\nPolicy:\\n{1}\\n\".format(round(timer() - t, 4), np.vectorize(env.actions.get)(policy.reshape(\n",
    "    env.shape))))\n",
    "_ = run_episode(env, policy, 20)"
   ]
  },
  {
   "cell_type": "markdown",
   "metadata": {},
   "source": [
    "Correct results for *Model-Based* reinforcement learning can be found [here](results/model_based_results.txt)\n",
    "\n",
    "The next piece of code plots the performance of the agent during learning. Notice that a better performance is obtained with higher rewards and shorter episode lengths (the sooner the agent reaches the goal the better)"
   ]
  },
  {
   "cell_type": "code",
   "execution_count": 27,
   "metadata": {
    "scrolled": true
   },
   "outputs": [
    {
     "data": {
      "image/png": "[encoded data removed]",
      "text/plain": [
       "<Figure size 936x432 with 1 Axes>"
      ]
     },
     "metadata": {
      "needs_background": "light"
     },
     "output_type": "display_data"
    },
    {
     "data": {
      "image/png": "[encoded data removed]",
      "text/plain": [
       "<Figure size 936x432 with 1 Axes>"
      ]
     },
     "metadata": {
      "needs_background": "light"
     },
     "output_type": "display_data"
    }
   ],
   "source": [
    "litres = np.arange(1, episodes + 1)  # Learning iteration values\n",
    "window = 10  # Rolling window\n",
    "rewards = rolling(rewards, window)\n",
    "lengths = rolling(lengths, window)\n",
    "plot([{\"x\": np.arange(1, len(rewards) + 1), \"y\": rewards, \"label\": \"Reward\"}], \"Episode Rewards\", \"Episodes\", \"Rewards\")\n",
    "plot([{\"x\": np.arange(1, len(lengths) + 1), \"y\": lengths, \"label\": \"Length\"}], \"Episode Lengths\", \"Episodes\", \"Lengths\")"
   ]
  },
  {
   "cell_type": "markdown",
   "metadata": {},
   "source": [
    "Correct results for the agent performance during learning can be found here below. Notice that since the charts could differ from yours: the important thing is the global trend.\n",
    "\n",
    "### Rewards\n",
    "![rewards](results/rewards.png)\n",
    "\n",
    "### Lengths\n",
    "![lengths](results/lengths.png)"
   ]
  },
  {
   "cell_type": "code",
   "execution_count": null,
   "metadata": {},
   "outputs": [],
   "source": []
  },
  {
   "cell_type": "code",
   "execution_count": null,
   "metadata": {},
   "outputs": [],
   "source": []
  },
  {
   "cell_type": "code",
   "execution_count": null,
   "metadata": {},
   "outputs": [],
   "source": []
  }
 ],
 "metadata": {
  "kernelspec": {
   "display_name": "Python 3",
   "language": "python",
   "name": "python3"
  },
  "language_info": {
   "codemirror_mode": {
    "name": "ipython",
    "version": 3
   },
   "file_extension": ".py",
   "mimetype": "text/x-python",
   "name": "python",
   "nbconvert_exporter": "python",
   "pygments_lexer": "ipython3",
   "version": "3.7.3"
  }
 },
 "nbformat": 4,
 "nbformat_minor": 2
}
