{
 "cells": [
  {
   "cell_type": "markdown",
   "metadata": {},
   "source": [
    "# AI-LAB SESSION 3: Tutorial\n",
    "\n",
    "In this tutorial we will see some additional functionalities available to OpenAI Gym environments\n",
    "\n",
    "## Lava environments\n",
    "\n",
    "The environments used are **LavaFloor** (visible in the figure) and its variations.\n",
    "![LavaFloor](images/lava.png)\n",
    "The agent starts in cell $(0, 0)$ and has to reach the treasure in $(2, 3)$. In addition to the walls of the previous environments, the floor is covered with lava, there is a black pit of death. What a nice place to visit!\n",
    "\n",
    "Moreover, the agent can't comfortably perform its actions that instead have a stochastic outcome (visible in the figure)\n",
    "![DynAct](images/dynact.png)\n",
    "The action dynamics is the following:\n",
    "- $P(0.8)$ of moving in the desired direction\n",
    "- $P(0.1)$ of moving in a direction 90° with respect to the desired direction\n",
    "\n",
    "Finally, since the floor is covered in lava, the agent receives a negative reward for each of its steps!\n",
    "- <span style=\"color:orange\">-0.04</span> for each lava cell (L)\n",
    "- <span style=\"color:red\">-5</span> for the black pit (P). End of episode\n",
    "- <span style=\"color:green\">+1</span> for the treasure (G). End of episode"
   ]
  },
  {
   "cell_type": "code",
   "execution_count": 1,
   "metadata": {},
   "outputs": [
    {
     "name": "stdout",
     "output_type": "stream",
     "text": [
      "[['S' 'L' 'L' 'L']\n",
      " ['L' 'W' 'L' 'P']\n",
      " ['L' 'L' 'L' 'G']]\n"
     ]
    }
   ],
   "source": [
    "import os\n",
    "import sys\n",
    "module_path = os.path.abspath(os.path.join('..'))\n",
    "if module_path not in sys.path:\n",
    "    sys.path.append(module_path)\n",
    "\n",
    "import gym\n",
    "import envs\n",
    "import numpy as np\n",
    "from utils.funcs import run_episode, plot\n",
    "\n",
    "env = gym.make(\"LavaFloor-v0\")\n",
    "env.render()"
   ]
  },
  {
   "cell_type": "markdown",
   "metadata": {},
   "source": [
    "In addition to the varables of the environments you have been using in the previous sessions, there are also a few more:\n",
    "- $T$: matrix of the transition function $T(s, a, s') \\rightarrow [0, 1]$\n",
    "- $R$: matrix of the reward function $R(s, a, s') \\rightarrow \\mathbb{R}$\n",
    "\n",
    "The available actions are still *Left, Right, Up, Down*"
   ]
  },
  {
   "cell_type": "code",
   "execution_count": 2,
   "metadata": {},
   "outputs": [
    {
     "name": "stdout",
     "output_type": "stream",
     "text": [
      "Number of actions:  4\n",
      "Actions:  {0: 'L', 1: 'R', 2: 'U', 3: 'D'}\n"
     ]
    }
   ],
   "source": [
    "print(\"Number of actions: \", env.action_space.n)\n",
    "print(\"Actions: \", env.actions)"
   ]
  },
  {
   "cell_type": "markdown",
   "metadata": {},
   "source": [
    "As per the action dynamics, the probability of transitioning from state $(0, 0)$ to $(0, 1)$ with action 'R' is"
   ]
  },
  {
   "cell_type": "code",
   "execution_count": 3,
   "metadata": {},
   "outputs": [
    {
     "data": {
      "text/plain": [
       "0.8"
      ]
     },
     "execution_count": 3,
     "metadata": {},
     "output_type": "execute_result"
    }
   ],
   "source": [
    "current_state = env.pos_to_state(0, 0)\n",
    "next_state = env.pos_to_state(0, 1)\n",
    "action_R = 1\n",
    "env.T[current_state, next_state, action_R]"
   ]
  },
  {
   "cell_type": "markdown",
   "metadata": {},
   "source": [
    "Indeed, the probability of actually ending up in the desired target state is 0.8.\n",
    "\n",
    "The reward for transitioning from state $(0, 0)$ to $(0, 1)$ with action 'R' is"
   ]
  },
  {
   "cell_type": "code",
   "execution_count": 4,
   "metadata": {},
   "outputs": [
    {
     "data": {
      "text/plain": [
       "-0.04"
      ]
     },
     "execution_count": 4,
     "metadata": {},
     "output_type": "execute_result"
    }
   ],
   "source": [
    "env.R[current_state, next_state, action_R]"
   ]
  },
  {
   "cell_type": "markdown",
   "metadata": {},
   "source": [
    "The agent receives the negative reward dictated by the presence of lava.\n",
    "\n",
    "The transition probability values from state $(2, 2)$ are"
   ]
  },
  {
   "cell_type": "code",
   "execution_count": 5,
   "metadata": {},
   "outputs": [
    {
     "data": {
      "text/plain": [
       "array([[0. , 0. , 0. , 0. , 0. , 0. , 0.1, 0. , 0. , 0.8, 0.1, 0. ],\n",
       "       [0. , 0. , 0. , 0. , 0. , 0. , 0.1, 0. , 0. , 0. , 0.1, 0.8],\n",
       "       [0. , 0. , 0. , 0. , 0. , 0. , 0.8, 0. , 0. , 0.1, 0. , 0.1],\n",
       "       [0. , 0. , 0. , 0. , 0. , 0. , 0. , 0. , 0. , 0.1, 0.8, 0.1]])"
      ]
     },
     "execution_count": 5,
     "metadata": {},
     "output_type": "execute_result"
    }
   ],
   "source": [
    "state = env.pos_to_state(2, 2)\n",
    "env.T[state]"
   ]
  },
  {
   "cell_type": "markdown",
   "metadata": {},
   "source": [
    "The result is indexed by action/state where:\n",
    "- *row*: action id\n",
    "- *column*: destination state id\n",
    "\n",
    "Reward that can be achieved from state $(2, 2)$ instead are the following"
   ]
  },
  {
   "cell_type": "code",
   "execution_count": 6,
   "metadata": {},
   "outputs": [
    {
     "data": {
      "text/plain": [
       "array([ 0.  ,  0.  ,  0.  ,  0.  ,  0.  ,  0.  , -0.04,  0.  ,  0.  ,\n",
       "       -0.04, -0.04,  1.  ])"
      ]
     },
     "execution_count": 6,
     "metadata": {},
     "output_type": "execute_result"
    }
   ],
   "source": [
    "env.R[state, action_R]"
   ]
  },
  {
   "cell_type": "markdown",
   "metadata": {},
   "source": [
    "If we want to compute the best possible reward from state $(2, 2)$ we have to multiply the transition probability among the destination states (for every possible actions) and the corresponding rewards"
   ]
  },
  {
   "cell_type": "code",
   "execution_count": 7,
   "metadata": {},
   "outputs": [
    {
     "data": {
      "text/plain": [
       "0.8"
      ]
     },
     "execution_count": 7,
     "metadata": {},
     "output_type": "execute_result"
    }
   ],
   "source": [
    "pr = env.T[state] * env.R[state]\n",
    "pr.max()  # Numpy max function"
   ]
  },
  {
   "cell_type": "markdown",
   "metadata": {},
   "source": [
    "The best action to perform from state $(2, 2)$ takes the best possible reward for every action (keeping the max for every row with $axis=1$) and the takes the $argmax$ (returning the action id of such maximization)"
   ]
  },
  {
   "cell_type": "code",
   "execution_count": 8,
   "metadata": {},
   "outputs": [
    {
     "data": {
      "text/plain": [
       "'R'"
      ]
     },
     "execution_count": 8,
     "metadata": {},
     "output_type": "execute_result"
    }
   ],
   "source": [
    "best_action = pr.max(axis=1).argmax()\n",
    "env.actions[best_action]"
   ]
  },
  {
   "cell_type": "markdown",
   "metadata": {},
   "source": [
    "Now we verify that $T$ is indeed a probability (for each pair of state/action the sum is 1)"
   ]
  },
  {
   "cell_type": "code",
   "execution_count": 9,
   "metadata": {
    "scrolled": true
   },
   "outputs": [
    {
     "data": {
      "text/plain": [
       "array([[1., 1., 1., 1.],\n",
       "       [1., 1., 1., 1.],\n",
       "       [1., 1., 1., 1.],\n",
       "       [1., 1., 1., 1.],\n",
       "       [1., 1., 1., 1.],\n",
       "       [0., 0., 0., 0.],\n",
       "       [1., 1., 1., 1.],\n",
       "       [1., 1., 1., 1.],\n",
       "       [1., 1., 1., 1.],\n",
       "       [1., 1., 1., 1.],\n",
       "       [1., 1., 1., 1.],\n",
       "       [1., 1., 1., 1.]])"
      ]
     },
     "execution_count": 9,
     "metadata": {},
     "output_type": "execute_result"
    }
   ],
   "source": [
    "env.T.sum(axis=2)"
   ]
  },
  {
   "cell_type": "markdown",
   "metadata": {},
   "source": [
    "The null row is for the wall (W) state\n",
    "\n",
    "To generate a random policy for the current environment we need to create a vector where in every index (state id) we take a random action $[0, ..., 4]$. Reshaping is applied in order to map to a 2-dimensional grid such as the environment"
   ]
  },
  {
   "cell_type": "code",
   "execution_count": 10,
   "metadata": {},
   "outputs": [
    {
     "data": {
      "text/plain": [
       "array([['D', 'D', 'U', 'L'],\n",
       "       ['D', 'L', 'U', 'D'],\n",
       "       ['L', 'U', 'L', 'U']], dtype='<U1')"
      ]
     },
     "execution_count": 10,
     "metadata": {},
     "output_type": "execute_result"
    }
   ],
   "source": [
    "rnd_policy = np.random.choice(env.action_space.n, env.observation_space.n)\n",
    "np.vectorize(env.actions.get)(rnd_policy.reshape(env.rows, env.cols))"
   ]
  },
  {
   "cell_type": "markdown",
   "metadata": {},
   "source": [
    "To extract multiple values, indices can be passed as tuples. For example to extract transition probability values for $T(2, 3, 2), T(2, 2, 1)$ and $T(2, 1, 6)$"
   ]
  },
  {
   "cell_type": "code",
   "execution_count": 11,
   "metadata": {},
   "outputs": [
    {
     "data": {
      "text/plain": [
       "array([0. , 0.1, 0.1])"
      ]
     },
     "execution_count": 11,
     "metadata": {},
     "output_type": "execute_result"
    }
   ],
   "source": [
    " env.T[2, (3, 2, 1), (2, 1, 6)]"
   ]
  },
  {
   "cell_type": "markdown",
   "metadata": {},
   "source": [
    "Given a policy vector it can be executed in an environment using the utility function *run_episode(environment, policy, limit)* where *limit* limits the maximum number of steps. The total *reward* is returned."
   ]
  },
  {
   "cell_type": "code",
   "execution_count": 12,
   "metadata": {},
   "outputs": [
    {
     "data": {
      "text/plain": [
       "-0.39999999999999997"
      ]
     },
     "execution_count": 12,
     "metadata": {},
     "output_type": "execute_result"
    }
   ],
   "source": [
    "run_episode(env, rnd_policy, 10)"
   ]
  },
  {
   "cell_type": "markdown",
   "metadata": {},
   "source": [
    "Since the result of the execution of a policy is stochastic (in this environment), it is useful to execute a policy multiple times and plot the rewards. In the following we execute a random and a constant policy $10$ times for a maximum number of time steps in the range $[1, 10]$. Rewards are saved in a matrix of size $10 \\times 10$ where every column contains 10 iterations with the same number of maximum steps"
   ]
  },
  {
   "cell_type": "code",
   "execution_count": 13,
   "metadata": {
    "scrolled": true
   },
   "outputs": [],
   "source": [
    "const_policy = np.ones(env.observation_space.n, dtype=\"int8\")  # Always action 1 (R)\n",
    "iterations = 10\n",
    "step_limit = range(1, 11)\n",
    "\n",
    "# Reward matrices\n",
    "rnd_rewards = np.zeros((iterations, len(step_limit)))\n",
    "const_rewards = np.zeros((iterations, len(step_limit)))\n",
    "\n",
    "for i in range(10):\n",
    "    for j in step_limit:\n",
    "        rnd_rewards[i, j - 1] = run_episode(env, rnd_policy, j)\n",
    "        const_rewards[i, j - 1] = run_episode(env, const_policy, j)"
   ]
  },
  {
   "cell_type": "markdown",
   "metadata": {},
   "source": [
    "It is useful to plot the mean result for each step limit with the utility function *plot* that takes the following arguments:\n",
    "- *series*: a list of dictionaries such as $(\\{\"x\": [1, 2, 3], \"y\": [10, 20, 30] \"label\": \"first\"\\}, \\{\"x\": [1, 2, 3], \"y\": [100, 200, 300] \"label\": \"second\"\\})$\n",
    "- *title*: the title of the chart\n",
    "- *xlabel*: label for x-axis\n",
    "- *ylabel*: label fo y-axis"
   ]
  },
  {
   "cell_type": "code",
   "execution_count": 14,
   "metadata": {},
   "outputs": [
    {
     "data": {
      "image/png": "[encoded data removed]",
      "text/plain": [
       "<Figure size 936x432 with 1 Axes>"
      ]
     },
     "metadata": {
      "needs_background": "light"
     },
     "output_type": "display_data"
    }
   ],
   "source": [
    "rnd_series = {\"x\": step_limit, \"y\": rnd_rewards.mean(axis=0), \"label\": \"Random Policy\"}\n",
    "const_series = {\"x\": step_limit, \"y\": const_rewards.mean(axis=0), \"label\": \"Constant Policy\"}\n",
    "plot((rnd_series, const_series), \"Mean Rewards\", \"Steps\", \"Reward\")"
   ]
  }
 ],
 "metadata": {
  "kernelspec": {
   "display_name": "Python 3",
   "language": "python",
   "name": "python3"
  },
  "language_info": {
   "codemirror_mode": {
    "name": "ipython",
    "version": 3
   },
   "file_extension": ".py",
   "mimetype": "text/x-python",
   "name": "python",
   "nbconvert_exporter": "python",
   "pygments_lexer": "ipython3",
   "version": "3.7.3"
  }
 },
 "nbformat": 4,
 "nbformat_minor": 2
}
